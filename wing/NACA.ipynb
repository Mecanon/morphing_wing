{
 "cells": [
  {
   "cell_type": "code",
   "execution_count": 134,
   "metadata": {
    "collapsed": true
   },
   "outputs": [],
   "source": [
    "import matplotlib.pyplot as plt\n",
    "import numpy as np\n",
    "import math\n",
    "%matplotlib inline"
   ]
  },
  {
   "cell_type": "markdown",
   "metadata": {},
   "source": [
    "I will define the used variables to solve the Naca Equation for a symmetrical 4-digit NACA airfoil."
   ]
  },
  {
   "cell_type": "code",
   "execution_count": 213,
   "metadata": {
    "collapsed": false
   },
   "outputs": [],
   "source": [
    "\n",
    "c = 1 #c is the chord length\n",
    "t = 0.012 # is the maximum thickness as a fraction of the chord \n",
    "         #(t*100 = the last two nunbers of the NACA denomination)\n",
    "number_of_points = 200\n",
    "xt = np.linspace(.001,c,number_of_points) # This function receives inicial point,finalpoin,number of therms \n",
    "                                         #between inicial and final point\n",
    "\n",
    "p = 0.3 #I can´t remember how we are puting this p, but I remeber Pedro say to put."
   ]
  },
  {
   "cell_type": "code",
   "execution_count": 216,
   "metadata": {
    "collapsed": false
   },
   "outputs": [],
   "source": [
    "def Naca(c,t,xt):\n",
    "    yt = []\n",
    "    for x in xt:\n",
    "        chimera = x/c # Is just for increase speed and facilitate future changes.\n",
    "        a1 = 5*t*c\n",
    "        t1 = 0.2969*(math.sqrt(chimera))\n",
    "        t2 = -0.1260*chimera\n",
    "        t3 = -0.3516*(chimera**2)\n",
    "        t4 = 0.2843*(chimera**3)\n",
    "        t5 = -0.1015*(chimera**4)\n",
    "        y = (a1*(t1+t2+t3+t4+t5))*p\n",
    "        yt.append(y)\n",
    "    return yt"
   ]
  },
  {
   "cell_type": "code",
   "execution_count": 217,
   "metadata": {
    "collapsed": false
   },
   "outputs": [
    {
     "data": {
      "text/plain": [
       "<matplotlib.text.Text at 0x12908f28>"
      ]
     },
     "execution_count": 217,
     "metadata": {},
     "output_type": "execute_result"
    },
    {
     "data": {
      "image/png": "[encoded data removed]",
      "text/plain": [
       "<matplotlib.figure.Figure at 0xe6744a8>"
      ]
     },
     "metadata": {},
     "output_type": "display_data"
    }
   ],
   "source": [
    "yt = Naca(c,t,xt)\n",
    "fig = plt.figure()\n",
    "\n",
    "fig.add_subplot(111)\n",
    "plt.scatter(xt,yt)\n",
    "\n",
    "yt_neg = [ -y for y in yt] # is just for pick the negative numbers\n",
    "plt.scatter(xt,yt_neg)\n",
    "plt.grid()\n",
    "plt.xlabel('xt')\n",
    "plt.ylabel('yt')"
   ]
  },
  {
   "cell_type": "code",
   "execution_count": null,
   "metadata": {
    "collapsed": true
   },
   "outputs": [],
   "source": []
  }
 ],
 "metadata": {
  "kernelspec": {
   "display_name": "Python 2",
   "language": "python",
   "name": "python2"
  },
  "language_info": {
   "codemirror_mode": {
    "name": "ipython",
    "version": 2
   },
   "file_extension": ".py",
   "mimetype": "text/x-python",
   "name": "python",
   "nbconvert_exporter": "python",
   "pygments_lexer": "ipython2",
   "version": "2.7.10"
  }
 },
 "nbformat": 4,
 "nbformat_minor": 0
}
